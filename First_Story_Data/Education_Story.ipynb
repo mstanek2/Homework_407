{
 "cells": [
  {
   "cell_type": "code",
   "execution_count": 2,
   "metadata": {
    "collapsed": true
   },
   "outputs": [],
   "source": [
    "import agate"
   ]
  },
  {
   "cell_type": "code",
   "execution_count": 3,
   "metadata": {
    "collapsed": false
   },
   "outputs": [],
   "source": [
    "students = agate.Table.from_csv('Documents/schools.csv')"
   ]
  },
  {
   "cell_type": "code",
   "execution_count": 4,
   "metadata": {
    "collapsed": false
   },
   "outputs": [
    {
     "name": "stdout",
     "output_type": "stream",
     "text": [
      "|---------------------+---------------|\n",
      "|  column_names       | column_types  |\n",
      "|---------------------+---------------|\n",
      "|  DATAYEARS          | Number        |\n",
      "|  CO_DIST            | Date          |\n",
      "|  DISTRICT_NAME      | Text          |\n",
      "|  COUNTY_NAME        | Text          |\n",
      "|  CLASS_CODE         | Number        |\n",
      "|  DISTRICT_TYPE_CODE | Text          |\n",
      "|  CO_DIST_SCH        | Date          |\n",
      "|  COUNTY             | Number        |\n",
      "|  DISTRICT           | Number        |\n",
      "|  SCHOOL             | Number        |\n",
      "|  SCHOOL_NAME        | Text          |\n",
      "|  GRADE_CODE         | Text          |\n",
      "|  F_WH               | Number        |\n",
      "|  M_WH               | Number        |\n",
      "|  FBL                | Number        |\n",
      "|  M_BL               | Number        |\n",
      "|  F_HI               | Number        |\n",
      "|  M_HI               | Number        |\n",
      "|  F_AS               | Number        |\n",
      "|  M_AS               | Number        |\n",
      "|  F_AM               | Number        |\n",
      "|  M_AM               | Number        |\n",
      "|  F_PI               | Number        |\n",
      "|  M_PI               | Number        |\n",
      "|  F_MU               | Number        |\n",
      "|  M_MU               | Number        |\n",
      "|  FEMALE_TOTAL       | Number        |\n",
      "|  MALE_TOTAL         | Number        |\n",
      "|  TOTAL              | Number        |\n",
      "|---------------------+---------------|\n",
      "\n"
     ]
    }
   ],
   "source": [
    "print(students)"
   ]
  },
  {
   "cell_type": "code",
   "execution_count": 6,
   "metadata": {
    "collapsed": false
   },
   "outputs": [
    {
     "name": "stdout",
     "output_type": "stream",
     "text": [
      "6550\n"
     ]
    }
   ],
   "source": [
    "highschool = students.where(lambda row: row['GRADE_CODE'] != 'K')\n",
    "print(len(highschool.rows))"
   ]
  },
  {
   "cell_type": "code",
   "execution_count": 7,
   "metadata": {
    "collapsed": false
   },
   "outputs": [
    {
     "name": "stdout",
     "output_type": "stream",
     "text": [
      "5964\n"
     ]
    }
   ],
   "source": [
    "highschool = highschool.where(lambda row: row['GRADE_CODE'] != 'PK')\n",
    "print(len(highschool.rows))"
   ]
  },
  {
   "cell_type": "code",
   "execution_count": 8,
   "metadata": {
    "collapsed": false
   },
   "outputs": [
    {
     "name": "stdout",
     "output_type": "stream",
     "text": [
      "5287\n"
     ]
    }
   ],
   "source": [
    "highschool = highschool.where(lambda row: row['GRADE_CODE'] != '1')\n",
    "print(len(highschool.rows))"
   ]
  },
  {
   "cell_type": "code",
   "execution_count": 9,
   "metadata": {
    "collapsed": false
   },
   "outputs": [
    {
     "name": "stdout",
     "output_type": "stream",
     "text": [
      "4609\n"
     ]
    }
   ],
   "source": [
    "highschool = highschool.where(lambda row: row['GRADE_CODE'] != '2')\n",
    "print(len(highschool.rows))"
   ]
  },
  {
   "cell_type": "code",
   "execution_count": 10,
   "metadata": {
    "collapsed": false
   },
   "outputs": [
    {
     "name": "stdout",
     "output_type": "stream",
     "text": [
      "3933\n"
     ]
    }
   ],
   "source": [
    "highschool = highschool.where(lambda row: row['GRADE_CODE'] != '3')\n",
    "print(len(highschool.rows))"
   ]
  },
  {
   "cell_type": "code",
   "execution_count": 32,
   "metadata": {
    "collapsed": false
   },
   "outputs": [
    {
     "name": "stdout",
     "output_type": "stream",
     "text": [
      "3254\n"
     ]
    }
   ],
   "source": [
    "highschool = highschool.where(lambda row: row['GRADE_CODE'] != '4')\n",
    "print(len(highschool.rows))"
   ]
  },
  {
   "cell_type": "code",
   "execution_count": 11,
   "metadata": {
    "collapsed": false
   },
   "outputs": [
    {
     "name": "stdout",
     "output_type": "stream",
     "text": [
      "3280\n"
     ]
    }
   ],
   "source": [
    "highschool = highschool.where(lambda row: row['GRADE_CODE'] != '5')\n",
    "print(len(highschool.rows))"
   ]
  },
  {
   "cell_type": "code",
   "execution_count": 12,
   "metadata": {
    "collapsed": false
   },
   "outputs": [
    {
     "name": "stdout",
     "output_type": "stream",
     "text": [
      "2741\n"
     ]
    }
   ],
   "source": [
    "highschool = highschool.where(lambda row: row['GRADE_CODE'] != '6')\n",
    "print(len(highschool.rows))"
   ]
  },
  {
   "cell_type": "code",
   "execution_count": 13,
   "metadata": {
    "collapsed": false
   },
   "outputs": [
    {
     "name": "stdout",
     "output_type": "stream",
     "text": [
      "2330\n"
     ]
    }
   ],
   "source": [
    "highschool = highschool.where(lambda row: row['GRADE_CODE'] != '7')\n",
    "print(len(highschool.rows))"
   ]
  },
  {
   "cell_type": "code",
   "execution_count": 14,
   "metadata": {
    "collapsed": false
   },
   "outputs": [
    {
     "name": "stdout",
     "output_type": "stream",
     "text": [
      "1915\n"
     ]
    }
   ],
   "source": [
    "highschool = highschool.where(lambda row: row['GRADE_CODE'] != '8')\n",
    "print(len(highschool.rows))"
   ]
  },
  {
   "cell_type": "code",
   "execution_count": 36,
   "metadata": {
    "collapsed": false
   },
   "outputs": [],
   "source": [
    "by_stotals = students.group_by('CO_DIST_SCH')"
   ]
  },
  {
   "cell_type": "code",
   "execution_count": 37,
   "metadata": {
    "collapsed": false
   },
   "outputs": [
    {
     "name": "stdout",
     "output_type": "stream",
     "text": [
      "93\n"
     ]
    }
   ],
   "source": [
    "print(len(by_stotals))"
   ]
  },
  {
   "cell_type": "code",
   "execution_count": 38,
   "metadata": {
    "collapsed": false
   },
   "outputs": [
    {
     "name": "stdout",
     "output_type": "stream",
     "text": [
      "171430\n"
     ]
    }
   ],
   "source": [
    "sum_stotals = students.aggregate(agate.Sum('FEMALE_TOTAL'))\n",
    "print(sum_stotals)"
   ]
  },
  {
   "cell_type": "code",
   "execution_count": 39,
   "metadata": {
    "collapsed": false
   },
   "outputs": [
    {
     "name": "stdout",
     "output_type": "stream",
     "text": [
      "182525\n"
     ]
    }
   ],
   "source": [
    "sum_stotals = students.aggregate(agate.Sum('MALE_TOTAL'))\n",
    "print(sum_stotals)"
   ]
  },
  {
   "cell_type": "code",
   "execution_count": 40,
   "metadata": {
    "collapsed": false
   },
   "outputs": [
    {
     "name": "stdout",
     "output_type": "stream",
     "text": [
      "353955\n"
     ]
    }
   ],
   "source": [
    "sum_stotals = students.aggregate(agate.Sum('TOTAL'))\n",
    "print(sum_stotals)"
   ]
  },
  {
   "cell_type": "code",
   "execution_count": 41,
   "metadata": {
    "collapsed": false
   },
   "outputs": [],
   "source": [
    "counts = by_stotals.aggregate([\n",
    "    ('Total_Count', agate.Sum('TOTAL')),\n",
    "    ('Female_Count', agate.Sum('FEMALE_TOTAL')),\n",
    "    ('Male_Count', agate.Sum('MALE_TOTAL'))\n",
    "])"
   ]
  },
  {
   "cell_type": "code",
   "execution_count": 42,
   "metadata": {
    "collapsed": false
   },
   "outputs": [
    {
     "name": "stdout",
     "output_type": "stream",
     "text": [
      "|--------------+-------------+--------------+-------------|\n",
      "|  CO_DIST_SCH | Total_Count | Female_Count | Male_Count  |\n",
      "|--------------+-------------+--------------+-------------|\n",
      "|   5801-01-01 |          66 |           29 |         37  |\n",
      "|   5201-01-01 |          86 |           48 |         38  |\n",
      "|   4301-01-01 |          90 |           45 |         45  |\n",
      "|   6001-01-01 |          91 |           50 |         41  |\n",
      "|   9201-01-01 |          93 |           46 |         47  |\n",
      "|   8301-01-01 |          95 |           45 |         50  |\n",
      "|   0501-01-01 |         103 |           51 |         52  |\n",
      "|   0301-01-01 |         109 |           52 |         57  |\n",
      "|   8601-01-01 |         112 |           51 |         61  |\n",
      "|   3801-01-01 |         142 |           66 |         76  |\n",
      "|   0401-01-01 |         164 |           86 |         78  |\n",
      "|   4601-01-01 |         164 |           78 |         86  |\n",
      "|   5701-01-01 |         198 |          109 |         89  |\n",
      "|   7501-01-01 |         216 |          106 |        110  |\n",
      "|   3701-01-01 |         222 |          105 |        117  |\n",
      "|   3501-01-01 |         285 |          122 |        163  |\n",
      "|   4401-01-01 |         291 |          129 |        162  |\n",
      "|   4201-01-01 |         293 |          136 |        157  |\n",
      "|   3101-01-01 |         296 |          152 |        144  |\n",
      "|   2901-01-01 |         330 |          143 |        187  |\n",
      "|   0801-01-01 |         352 |          185 |        167  |\n",
      "|   3601-01-01 |         358 |          180 |        178  |\n",
      "|   3901-01-01 |         395 |          182 |        213  |\n",
      "|   6801-01-01 |         413 |          187 |        226  |\n",
      "|   2501-01-01 |         429 |          211 |        218  |\n",
      "|   8401-01-01 |         437 |          220 |        217  |\n",
      "|   8201-01-01 |         446 |          215 |        231  |\n",
      "|   0901-01-01 |         483 |          240 |        243  |\n",
      "|   5301-01-01 |         508 |          238 |        270  |\n",
      "|   6701-01-01 |         509 |          234 |        275  |\n",
      "|   9101-01-01 |         555 |          283 |        272  |\n",
      "|   3201-01-01 |         570 |          274 |        296  |\n",
      "|   1801-01-01 |         715 |          340 |        375  |\n",
      "|   4901-01-01 |         782 |          377 |        405  |\n",
      "|   8801-01-01 |         800 |          396 |        404  |\n",
      "|   6301-01-01 |         803 |          374 |        429  |\n",
      "|   1601-01-01 |         810 |          377 |        433  |\n",
      "|   8101-01-01 |         842 |          393 |        449  |\n",
      "|   1501-01-01 |         862 |          432 |        430  |\n",
      "|   6201-01-01 |         893 |          442 |        451  |\n",
      "|   8501-01-01 |         929 |          476 |        453  |\n",
      "|   2601-01-01 |         945 |          438 |        507  |\n",
      "|   3001-01-01 |         947 |          462 |        485  |\n",
      "|   0601-01-01 |       1,097 |          549 |        548  |\n",
      "|   3301-01-01 |       1,132 |          546 |        586  |\n",
      "|   6501-01-01 |       1,133 |          537 |        596  |\n",
      "|   0201-01-01 |       1,166 |          561 |        605  |\n",
      "|   6101-01-01 |       1,173 |          564 |        609  |\n",
      "|   6401-01-01 |       1,191 |          592 |        599  |\n",
      "|   5101-01-01 |       1,205 |          586 |        619  |\n",
      "|          ... |         ... |          ... |        ...  |\n",
      "|--------------+-------------+--------------+-------------|\n"
     ]
    }
   ],
   "source": [
    "sorted_counts = counts.order_by('Total_Count', reverse=False)\n",
    "sorted_counts.print_table(max_rows=50)"
   ]
  },
  {
   "cell_type": "code",
   "execution_count": null,
   "metadata": {
    "collapsed": true
   },
   "outputs": [],
   "source": []
  }
 ],
 "metadata": {
  "kernelspec": {
   "display_name": "Python 2",
   "language": "python",
   "name": "python2"
  },
  "language_info": {
   "codemirror_mode": {
    "name": "ipython",
    "version": 2
   },
   "file_extension": ".py",
   "mimetype": "text/x-python",
   "name": "python",
   "nbconvert_exporter": "python",
   "pygments_lexer": "ipython2",
   "version": "2.7.11"
  }
 },
 "nbformat": 4,
 "nbformat_minor": 0
}
